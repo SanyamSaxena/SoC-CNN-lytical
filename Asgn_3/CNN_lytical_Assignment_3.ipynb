{
  "nbformat": 4,
  "nbformat_minor": 0,
  "metadata": {
    "colab": {
      "name": "CNN_lytical_Assignment_3.ipynb",
      "provenance": [],
      "collapsed_sections": []
    },
    "kernelspec": {
      "name": "python3",
      "display_name": "Python 3"
    },
    "language_info": {
      "name": "python"
    },
    "accelerator": "GPU"
  },
  "cells": [
    {
      "cell_type": "markdown",
      "source": [
        "# CNN-lytical Assignment-3\n",
        "<center>\n",
        "<img src=\"https://encrypted-tbn0.gstatic.com/images?q=tbn:ANd9GcS7fZ0PJ4leQi4qtXR5Egv5YILqQqvzVSNtFg&usqp=CAU\">\n",
        "</center>\n",
        "\n",
        "*  In this assignment, we will use CNNs in [PyTorch](https://pytorch.org/docs/stable/index.html) for image classification.\n",
        "\n",
        "* We have been using MNIST by flattening 28$\\times$28 images to 784-sized vectors.\n",
        "\n",
        "* This time, we will classify images from the CIFAR-10 dataset - dimension is 32$\\times$32.\n",
        "\n",
        "* Much of this notebook remains the same as for Assignment 2, just minor changes would be needed and this assignment won't take long.\n",
        "\n",
        "**Feel free to redefine any function signatures below, just make sure the final cell remains the same.**"
      ],
      "metadata": {
        "id": "Xwo8D8V-uPsI"
      }
    },
    {
      "cell_type": "markdown",
      "source": [
        "## Import libraries here\n",
        "PyTorch, NumPy, Matplotlib, ...\n",
        "Even when equipped with PyTorch, NumPy and Matplotlib make your work easier for visualization etc.\n",
        "\n",
        "Note the following method to **initialize the seed** for reproducibility of results, both for NumPy & PyTorch (CPU/CUDA)."
      ],
      "metadata": {
        "id": "QQNvtQCE_j1Q"
      }
    },
    {
      "cell_type": "code",
      "execution_count": 179,
      "metadata": {
        "id": "CnnyxVTxqpZB"
      },
      "outputs": [],
      "source": [
        "import torch\n",
        "import os\n",
        "import torch.nn as nn \n",
        "import torchvision\n",
        "import torchvision.transforms as transforms\n",
        "from torch.utils.data import Dataset\n",
        "from torch.utils.data import DataLoader\n",
        "from torchvision import datasets\n",
        "from torchvision.transforms import ToTensor\n",
        "import matplotlib.pyplot as plt\n",
        "import numpy as np\n",
        "import pickle \n",
        "from sklearn.model_selection import StratifiedShuffleSplit\n",
        "from sklearn.model_selection import train_test_split\n",
        "import torch.backends.cudnn as cudnn\n",
        "\n",
        "def set_seed(seed=42):\n",
        "    '''Sets the seed of the entire notebook so results are the same every time we run.\n",
        "    This is for REPRODUCIBILITY.'''\n",
        "    np.random.seed(seed)\n",
        "    torch.manual_seed(seed)\n",
        "    torch.cuda.manual_seed(seed)\n",
        "    # When running on the CuDNN backend, two further options must be set\n",
        "    torch.backends.cudnn.deterministic = True\n",
        "    torch.backends.cudnn.benchmark = False\n",
        "    # Set a fixed value for the hash seed\n",
        "    os.environ['PYTHONHASHSEED'] = str(seed)\n",
        "    \n",
        "set_seed(42)\n"
      ]
    },
    {
      "cell_type": "markdown",
      "source": [
        "## Load *Dataset*\n",
        "Use the [pickle file](https://drive.google.com/file/d/1_IHICOfAsT7x63VBBuN1WMh4bDqtUThp/view?usp=sharing) shared for this assignment here."
      ],
      "metadata": {
        "id": "D6dAe4V0_3zC"
      }
    },
    {
      "cell_type": "code",
      "source": [
        "#needs change\n",
        "# mount Google Drive to access the dataset\n",
        "from google.colab import drive\n",
        "drive.mount('/content/gdrive')\n",
        "\n",
        "# load the data set\n",
        "with open('/content/gdrive/My Drive/CNN/asgn_3/train_cifar.pkl', 'rb') as f:\n",
        "    data = pickle.load(f)\n",
        "\n",
        "X = data['X']\n",
        "y = data['y']\n",
        "\n",
        "# normalisation\n",
        "# std_vec=np.std(x_prev,axis=0)\n",
        "# std_vec[np.where(std_vec==0)]=1e-22\n",
        "# X=(x_prev-np.mean(x_prev,axis=0))/std_vec\n",
        "\n",
        "# Split into X_train, y_train, X_test, y_test\n",
        "# you can use stratified splitting from sklearn library\n",
        "X_train, X_test, y_train, y_test = train_test_split(X, y,stratify=y, test_size=0.25)\n"
      ],
      "metadata": {
        "id": "umr8-1EI_3ez",
        "colab": {
          "base_uri": "https://localhost:8080/"
        },
        "outputId": "a5b2c65b-3d26-426f-d24a-ebe34212dddb"
      },
      "execution_count": 180,
      "outputs": [
        {
          "output_type": "stream",
          "name": "stdout",
          "text": [
            "Drive already mounted at /content/gdrive; to attempt to forcibly remount, call drive.mount(\"/content/gdrive\", force_remount=True).\n"
          ]
        }
      ]
    },
    {
      "cell_type": "code",
      "source": [
        "# display a 4x4 grid, \n",
        "# choose 16 images randomly, display the images as well as corresponding labels\n",
        "# print(X_train.shape)\n",
        "# print(y_train.shape)\n",
        "random_indices = np.random.choice(X.shape[0]-1, size=16, replace=False)\n",
        "random_images = X[random_indices, :]\n",
        "random_images_labels = y[random_indices, :]\n",
        "\n",
        "# Create plt plot:\n",
        "fig = plt.figure()\n",
        "\n",
        "for i in range(16):\n",
        "  plt.subplot(4,4,i+1)\n",
        "  plt.imshow(np.reshape(random_images[i],(32,32,3)))\n",
        "  plt.title(\"{}\".format(random_images_labels[i]))\n",
        "  plt.xticks([])\n",
        "  plt.yticks([])\n",
        "\n",
        "fig.tight_layout()"
      ],
      "metadata": {
        "id": "w4174DiUAUIJ",
        "colab": {
          "base_uri": "https://localhost:8080/",
          "height": 297
        },
        "outputId": "4f8e41e1-ffcb-417b-a777-5c84987f6f23"
      },
      "execution_count": 181,
      "outputs": [
        {
          "output_type": "display_data",
          "data": {
            "text/plain": [
              "<Figure size 432x288 with 16 Axes>"
            ],
            "image/png": "[encoded data removed]"
          },
          "metadata": {}
        }
      ]
    },
    {
      "cell_type": "markdown",
      "source": [
        "## Creating a Dataset Class\n",
        "In PyTorch, there is existing implementation of batch-splitting. You don't need to do it manually over here. Instead, just define a Dataset class and a Dataloader wrapping it.\n",
        "\n",
        "A dataset class must have 3 functions - ```__init__```, ```__len__```, ```__getitem__```. Their names are pretty self-explanatory. You can read more about this [here](https://pytorch.org/tutorials/beginner/basics/data_tutorial.html).\n",
        "\n",
        "You will have to perform normalization, augmentation on the dataset here itself, have a look at [PyTorch Transforms](https://pytorch.org/vision/stable/transforms.html).\n",
        "\n",
        "**Note -** While initializing the dataset class object, make sure you only pass the numpy arrays for images and labels. So the ```__init__``` function should look like\n",
        "```\n",
        "    def __init__(self, X, y):\n",
        "```"
      ],
      "metadata": {
        "id": "ZjY5oNGRAK1e"
      }
    },
    {
      "cell_type": "code",
      "source": [
        "# define your dataset class\n",
        "class ImageDataset(Dataset):\n",
        "    def __init__(self, X, y):\n",
        "        self.img_labels = y\n",
        "        self.imgs = X\n",
        "        T0 = transforms.ToPILImage()\n",
        "        # T1 = transforms.RandomCrop(32, padding=4)\n",
        "        T2 = transforms.RandomHorizontalFlip()\n",
        "        T3 = transforms.ToTensor()\n",
        "        # using these values for normalising different channels since these are globally available value for CIFAR 10 dataset\n",
        "        nr = transforms.Normalize((0.4914, 0.4822, 0.4465), (0.2023, 0.1994, 0.2010))\n",
        "\n",
        "        # Transforms object for trainset with augmentation\n",
        "        transform_with_aug = transforms.Compose([T0, T2, T3, nr])\n",
        "        \n",
        "        self.transform = transform_with_aug\n",
        "        \n",
        "    def __len__(self):\n",
        "        return len(self.img_labels)\n",
        "        \n",
        "    def __getitem__(self, idx):\n",
        "        image = self.imgs[idx]\n",
        "        label = self.img_labels[idx]\n",
        "        if self.transform:\n",
        "          image = self.transform(image)\n",
        "        return image, label\n",
        "\n"
      ],
      "metadata": {
        "id": "vifSrimqBGjH"
      },
      "execution_count": 182,
      "outputs": []
    },
    {
      "cell_type": "markdown",
      "source": [
        "## ```nn.Module``` for your model\n",
        "In this segment, define a class for your model, it has to inherit from the ```nn.Module``` class. You must define two functions here - ```__init__``` and ```forward```, again pretty self-explanatory. Helper functions can also be implemented, your choice!\n",
        "\n",
        "Look into the following ```torch``` layers beyond those you used in the second assignment and combine them to form your network, you can find more [here](https://pytorch.org/docs/stable/nn.html) -\n",
        "- [```nn.Conv2d```](https://pytorch.org/docs/stable/generated/torch.nn.Conv2d.html)\n",
        "- [```nn.BatchNorm2d```](https://pytorch.org/docs/stable/generated/torch.nn.BatchNorm2d.html)\n"
      ],
      "metadata": {
        "id": "DOs6uifpBF8P"
      }
    },
    {
      "cell_type": "code",
      "source": [
        "#needs change\n",
        "import torch.nn as nn \n",
        "\n",
        "# define a child class of nn.Module for your model\n",
        "# specify the architecture here itself\n",
        "class NeuralNet(nn.Module):\n",
        "\n",
        "    def __init__(self,num_classes):\n",
        "         super(NeuralNet, self).__init__()\n",
        "         self.l1=   nn.Conv2d(3, 32, kernel_size=3, padding=1)#32 filters dimension remains 32 since stride is 1 by default\n",
        "         self.l2=   nn.ReLU()\n",
        "         self.l3=   nn.Conv2d(32, 64, kernel_size=3, stride=1, padding=1)#64 filters dimension remains 32 since stride is 1 by default\n",
        "         self.l4=   nn.ReLU()\n",
        "         self.l5=   nn.MaxPool2d(2, 2) # output: 64 x 8 x 8\n",
        "         self.l6=   nn.Conv2d(64, 128, kernel_size=3, stride=1, padding=1)\n",
        "         self.l7=   nn.ReLU()\n",
        "         self.l8=   nn.BatchNorm2d(128)\n",
        "         self.l9=   nn.Conv2d(128, 128, kernel_size=3, stride=1, padding=1)\n",
        "         self.l10=   nn.ReLU()\n",
        "         self.l11=   nn.MaxPool2d(2, 2) # output: 128 x 8 x 8\n",
        "         self.l19=   nn.Flatten() \n",
        "         self.l20=   nn.Linear(128*8*8, 1024)\n",
        "         self.l21=   nn.ReLU()\n",
        "         self.l22=   nn.Linear(1024, 256)\n",
        "         self.l23=   nn.ReLU()\n",
        "         self.l24=   nn.Linear(256, num_classes)\n",
        "                \n",
        "    def forward(self, x):\n",
        "         out = self.l1(x)\n",
        "         out = self.l2(out)\n",
        "         out = self.l3(out)\n",
        "         out = self.l4(out)\n",
        "         out = self.l5(out)\n",
        "         out = self.l6(out)\n",
        "         out = self.l7(out)\n",
        "         out = self.l8(out)\n",
        "         out = self.l9(out)\n",
        "         out = self.l10(out)\n",
        "         out = self.l11(out)\n",
        "         out = self.l19(out)\n",
        "         out = self.l20(out)\n",
        "         out = self.l21(out)\n",
        "         out = self.l22(out)\n",
        "         out = self.l23(out)\n",
        "         out = self.l24(out)\n",
        "         \n",
        "         # no softmax at the end since already included in cross entropy loss function\n",
        "         return out\n",
        "\n"
      ],
      "metadata": {
        "id": "6Mr6_5pzGRjp"
      },
      "execution_count": 183,
      "outputs": []
    },
    {
      "cell_type": "markdown",
      "source": [
        "## Training loop\n",
        "You can write a training loop but usually writing it within a function helps so that you can train in multiple passes with just one function call if you still don't see convergence of the loss. ```display_step``` is for you to display results on the validation set (which you must not have trained upon).\n",
        "\n",
        "You will need to use ```zero_grad()```, ```backward()``` and multiple such functions here. Look for them in the tutorials given."
      ],
      "metadata": {
        "id": "tVTyirdELXlt"
      }
    },
    {
      "cell_type": "code",
      "source": [
        "#needs change\n",
        "def train(model, optimizer, criterion, train_loader,test_loader, display_step=None):\n",
        "    for i, (images, labels) in enumerate(train_loader):   \n",
        "         \n",
        "         # Forward pass\n",
        "         images, labels = images.cuda(), labels.cuda()\n",
        "         outputs = model(images.float())\n",
        "         labels=torch.flatten(labels)\n",
        "         loss = criterion(outputs, labels)\n",
        "         \n",
        "         # Backward and optimize\n",
        "         optimizer.zero_grad()\n",
        "         loss.backward()\n",
        "         optimizer.step()\n",
        "\n",
        "    if (display_step==1):\n",
        "      print(\"Train Loss is: \",loss.item())\n",
        "      test_features, test_labels = next(iter(test_loader))\n",
        "      test_features = test_features.cuda()\n",
        "      predicted=predict(model,test_features)\n",
        "      val=accuracy(predicted,(test_labels.cpu().numpy()).flatten())\n",
        "      print(\"Test Accuracy is: \",val)\n"
      ],
      "metadata": {
        "id": "z0BnrNm8LN5s"
      },
      "execution_count": 184,
      "outputs": []
    },
    {
      "cell_type": "markdown",
      "source": [
        "## Initialize weights\n",
        "Write a small function to initialize weights for your model. You don't need to do it individually for each layer, there are ways to do it in a simple ```for``` loop."
      ],
      "metadata": {
        "id": "g319ipPXMh0R"
      }
    },
    {
      "cell_type": "code",
      "source": [
        "#needs change\n",
        "def init_weights(model_instance):\n",
        "    if isinstance(model_instance, nn.Linear) or isinstance(model_instance, nn.Conv2d):\n",
        "        torch.nn.init.xavier_uniform_(model_instance.weight)\n",
        "        model_instance.bias.data.fill_(0.001)\n"
      ],
      "metadata": {
        "id": "GRqqKNLZMjDe"
      },
      "execution_count": 185,
      "outputs": []
    },
    {
      "cell_type": "markdown",
      "source": [
        "## Prediction & Accuracy\n",
        "Prediction function should predict outputs using your trained model for a given **NumPy array** ```X_test``` and the output should be another **NumPy array**.\n",
        "\n",
        "The accuracy function would be the same as before."
      ],
      "metadata": {
        "id": "ivuHRGtfN3sE"
      }
    },
    {
      "cell_type": "code",
      "source": [
        "def predict(model, X_test):\n",
        "    outputs=model((torch.tensor(X_test)).float())\n",
        "    _, predicted = torch.max(outputs.data, 1)\n",
        "    return predicted.cpu().numpy()"
      ],
      "metadata": {
        "id": "cPX1q_0AN3ZV"
      },
      "execution_count": 186,
      "outputs": []
    },
    {
      "cell_type": "code",
      "source": [
        "def accuracy(pred, labels):\n",
        "    frac_correct = np.mean(pred == labels)\n",
        "    return 100*frac_correct"
      ],
      "metadata": {
        "id": "_nKROVpWOa6j"
      },
      "execution_count": 187,
      "outputs": []
    },
    {
      "cell_type": "markdown",
      "source": [
        "## Actually training your model\n",
        "- Create a model, initialize it. Define optimizer for the model as well as loss criterion (you can actually set the seed here again, just in case you did some ```rand``` calls above for testing your functions).\n",
        "- Define an instance of the dataset class, wrap it in a dataloader.\n",
        "- Call the train function and train your model!\n"
      ],
      "metadata": {
        "id": "8aA1EWZmMbQe"
      }
    },
    {
      "cell_type": "code",
      "source": [
        "#needs change \n",
        "\n",
        "num_classes = 10\n",
        "num_epochs = 51\n",
        "batch_size = 128\n",
        "learning_rate = 0.05 \n",
        "train_on_gpu = torch.cuda.is_available()\n",
        "\n",
        "if not train_on_gpu:\n",
        "    print('CUDA is not available.  Training on CPU ...')\n",
        "else:\n",
        "    print('CUDA is available!  Training on GPU ...')\n",
        "\n",
        "train_dataset = ImageDataset(X_train,y_train)\n",
        "test_dataset = ImageDataset(X_test,y_test)\n",
        "\n",
        "train_dataloader = DataLoader(train_dataset, batch_size=batch_size, shuffle=True)\n",
        "test_dataloader = DataLoader(test_dataset, batch_size=batch_size, shuffle=True)\n",
        "\n",
        "network=NeuralNet(10)\n",
        "# move tensors to GPU if CUDA is available\n",
        "if train_on_gpu:\n",
        "  network = network.cuda()\n",
        "  network = torch.nn.DataParallel(network)\n",
        "  cudnn.benchmark = True\n",
        "\n",
        "criterion = nn.CrossEntropyLoss()\n",
        "\n",
        "#optimizer=torch.optim.Adam(network.parameters(), lr=learning_rate)\n",
        "optimizer = torch.optim.SGD(network.parameters(), lr=learning_rate)\n",
        "\n",
        "#initiate\n",
        "network.apply(init_weights)\n",
        "\n",
        "for epoch in range(num_epochs):\n",
        "  print(epoch)\n",
        "  if (epoch%5==0):\n",
        "    train(network, optimizer, criterion, train_dataloader, test_dataloader, 1)\n",
        "  else:\n",
        "    train(network, optimizer, criterion, train_dataloader, test_dataloader, 0)    \n",
        "\n",
        "final_model=network"
      ],
      "metadata": {
        "id": "F8JG_XURNLmr",
        "colab": {
          "base_uri": "https://localhost:8080/"
        },
        "outputId": "718bdc3c-713b-4557-c7c8-740dca1ad5fb"
      },
      "execution_count": 188,
      "outputs": [
        {
          "output_type": "stream",
          "name": "stdout",
          "text": [
            "CUDA is available!  Training on GPU ...\n",
            "0\n",
            "Train Loss is:  1.2516804933547974\n",
            "Test Accuracy is:  55.46875\n",
            "1\n"
          ]
        },
        {
          "output_type": "stream",
          "name": "stderr",
          "text": [
            "/usr/local/lib/python3.7/dist-packages/ipykernel_launcher.py:2: UserWarning: To copy construct from a tensor, it is recommended to use sourceTensor.clone().detach() or sourceTensor.clone().detach().requires_grad_(True), rather than torch.tensor(sourceTensor).\n",
            "  \n"
          ]
        },
        {
          "output_type": "stream",
          "name": "stdout",
          "text": [
            "2\n",
            "3\n",
            "4\n",
            "5\n",
            "Train Loss is:  0.7856733202934265\n",
            "Test Accuracy is:  70.3125\n",
            "6\n",
            "7\n",
            "8\n",
            "9\n",
            "10\n",
            "Train Loss is:  0.29955586791038513\n",
            "Test Accuracy is:  75.0\n",
            "11\n",
            "12\n",
            "13\n",
            "14\n",
            "15\n",
            "Train Loss is:  0.09920327365398407\n",
            "Test Accuracy is:  75.78125\n",
            "16\n",
            "17\n",
            "18\n",
            "19\n",
            "20\n",
            "Train Loss is:  0.018385959789156914\n",
            "Test Accuracy is:  80.46875\n",
            "21\n",
            "22\n",
            "23\n",
            "24\n",
            "25\n",
            "Train Loss is:  0.0007547711138613522\n",
            "Test Accuracy is:  83.59375\n",
            "26\n",
            "27\n",
            "28\n",
            "29\n",
            "30\n",
            "Train Loss is:  0.0006931814714334905\n",
            "Test Accuracy is:  85.15625\n",
            "31\n",
            "32\n",
            "33\n",
            "34\n",
            "35\n",
            "Train Loss is:  0.0002669261593837291\n",
            "Test Accuracy is:  81.25\n",
            "36\n",
            "37\n",
            "38\n",
            "39\n",
            "40\n",
            "Train Loss is:  0.00019428881932981312\n",
            "Test Accuracy is:  84.375\n",
            "41\n",
            "42\n",
            "43\n",
            "44\n",
            "45\n",
            "Train Loss is:  0.00029687368078157306\n",
            "Test Accuracy is:  79.6875\n",
            "46\n",
            "47\n",
            "48\n",
            "49\n",
            "50\n",
            "Train Loss is:  0.0003067132201977074\n",
            "Test Accuracy is:  85.9375\n"
          ]
        }
      ]
    },
    {
      "cell_type": "markdown",
      "source": [
        "## Run your model for the validation dataset\n",
        "Use your trained model to get predictions for the validation dataset you split earlier."
      ],
      "metadata": {
        "id": "OQsiK0-COe6E"
      }
    },
    {
      "cell_type": "code",
      "source": [
        "# load the model, use predict function\n",
        "with torch.no_grad():\n",
        "    predicted_arr=np.zeros(64)\n",
        "    nums=0\n",
        "    sum_accuracy=0\n",
        "    \n",
        "    for i, (images, labels) in enumerate(test_dataloader):\n",
        "      images=images.cuda()   \n",
        "      predicted=predict(final_model,images)\n",
        "      nums+=1\n",
        "      val=accuracy(predicted,(labels.cpu().numpy()).flatten())\n",
        "      print(val)\n",
        "      sum_accuracy+=val\n",
        "    \n",
        "    print(sum_accuracy/nums)\n",
        "\n",
        "    # predicted_arr[i]=predicted \n",
        "    #  predicted=predict(final_model,X_test) \n",
        "    #  print(accuracy(predicted,y_test.flatten()))  "
      ],
      "metadata": {
        "id": "i_B_NUjUOq3c",
        "colab": {
          "base_uri": "https://localhost:8080/"
        },
        "outputId": "a4c81855-738b-45ec-bc49-7cf68ab99f21"
      },
      "execution_count": 189,
      "outputs": [
        {
          "output_type": "stream",
          "name": "stdout",
          "text": [
            "88.28125\n",
            "86.71875\n",
            "83.59375\n",
            "80.46875\n"
          ]
        },
        {
          "output_type": "stream",
          "name": "stderr",
          "text": [
            "/usr/local/lib/python3.7/dist-packages/ipykernel_launcher.py:2: UserWarning: To copy construct from a tensor, it is recommended to use sourceTensor.clone().detach() or sourceTensor.clone().detach().requires_grad_(True), rather than torch.tensor(sourceTensor).\n",
            "  \n"
          ]
        },
        {
          "output_type": "stream",
          "name": "stdout",
          "text": [
            "83.59375\n",
            "83.59375\n",
            "75.78125\n",
            "84.375\n",
            "83.59375\n",
            "80.46875\n",
            "86.71875\n",
            "85.15625\n",
            "81.25\n",
            "85.15625\n",
            "82.03125\n",
            "74.21875\n",
            "82.8125\n",
            "83.59375\n",
            "82.03125\n",
            "82.8125\n",
            "82.03125\n",
            "85.15625\n",
            "85.15625\n",
            "79.6875\n",
            "84.375\n",
            "77.34375\n",
            "83.59375\n",
            "88.28125\n",
            "80.46875\n",
            "82.8125\n",
            "85.15625\n",
            "84.375\n",
            "74.21875\n",
            "81.25\n",
            "81.25\n",
            "85.15625\n",
            "82.03125\n",
            "87.5\n",
            "76.5625\n",
            "83.59375\n",
            "83.59375\n",
            "85.15625\n",
            "85.9375\n",
            "82.03125\n",
            "81.25\n",
            "81.25\n",
            "84.375\n",
            "79.6875\n",
            "80.46875\n",
            "85.9375\n",
            "80.46875\n",
            "79.6875\n",
            "79.6875\n",
            "81.25\n",
            "77.34375\n",
            "82.03125\n",
            "78.90625\n",
            "75.0\n",
            "83.59375\n",
            "80.46875\n",
            "83.59375\n",
            "75.78125\n",
            "85.15625\n",
            "78.90625\n",
            "85.15625\n",
            "86.71875\n",
            "77.34375\n",
            "82.03125\n",
            "84.375\n",
            "81.25\n",
            "84.375\n",
            "89.0625\n",
            "83.59375\n",
            "82.03125\n",
            "79.6875\n",
            "79.6875\n",
            "76.5625\n",
            "85.9375\n",
            "78.90625\n",
            "79.6875\n",
            "85.15625\n",
            "79.6875\n",
            "79.6875\n",
            "84.375\n",
            "85.9375\n",
            "78.90625\n",
            "82.8125\n",
            "85.15625\n",
            "79.6875\n",
            "77.34375\n",
            "82.8125\n",
            "82.03125\n",
            "84.375\n",
            "82.03125\n",
            "78.90625\n",
            "85.15625\n",
            "79.6875\n",
            "77.38095238095238\n",
            "82.09540512633625\n"
          ]
        }
      ]
    },
    {
      "cell_type": "markdown",
      "source": [
        "## Submission\n",
        "To submit your solution, you will need to make a file with name ```model.py``` containing imports necessary to write the model class and the model class itself. It shouldn't do anything else when run. Also create a file ```dataset.py``` with the dataset class and all necessary imports. Other than this, save the trained model in a file named ```ass_2.pt```. When you are done with the assignment, commit the updated notebook, the ```model.py```, ```dataset.py``` class files and the ```ass_2.pt``` model-weights file to the repository."
      ],
      "metadata": {
        "id": "0f4W_facj-PA"
      }
    },
    {
      "cell_type": "code",
      "source": [
        "from google.colab import files\n",
        "torch.save(final_model, 'ass_3.pt')\n",
        "files.download('ass_3.pt') # download the file from the Colab session for submission"
      ],
      "metadata": {
        "id": "7tknYAy1j92M",
        "colab": {
          "base_uri": "https://localhost:8080/",
          "height": 17
        },
        "outputId": "fb7731d6-c3d9-4866-93db-da38e4c703da"
      },
      "execution_count": 190,
      "outputs": [
        {
          "output_type": "display_data",
          "data": {
            "text/plain": [
              "<IPython.core.display.Javascript object>"
            ],
            "application/javascript": [
              "\n",
              "    async function download(id, filename, size) {\n",
              "      if (!google.colab.kernel.accessAllowed) {\n",
              "        return;\n",
              "      }\n",
              "      const div = document.createElement('div');\n",
              "      const label = document.createElement('label');\n",
              "      label.textContent = `Downloading \"${filename}\": `;\n",
              "      div.appendChild(label);\n",
              "      const progress = document.createElement('progress');\n",
              "      progress.max = size;\n",
              "      div.appendChild(progress);\n",
              "      document.body.appendChild(div);\n",
              "\n",
              "      const buffers = [];\n",
              "      let downloaded = 0;\n",
              "\n",
              "      const channel = await google.colab.kernel.comms.open(id);\n",
              "      // Send a message to notify the kernel that we're ready.\n",
              "      channel.send({})\n",
              "\n",
              "      for await (const message of channel.messages) {\n",
              "        // Send a message to notify the kernel that we're ready.\n",
              "        channel.send({})\n",
              "        if (message.buffers) {\n",
              "          for (const buffer of message.buffers) {\n",
              "            buffers.push(buffer);\n",
              "            downloaded += buffer.byteLength;\n",
              "            progress.value = downloaded;\n",
              "          }\n",
              "        }\n",
              "      }\n",
              "      const blob = new Blob(buffers, {type: 'application/binary'});\n",
              "      const a = document.createElement('a');\n",
              "      a.href = window.URL.createObjectURL(blob);\n",
              "      a.download = filename;\n",
              "      div.appendChild(a);\n",
              "      a.click();\n",
              "      div.remove();\n",
              "    }\n",
              "  "
            ]
          },
          "metadata": {}
        },
        {
          "output_type": "display_data",
          "data": {
            "text/plain": [
              "<IPython.core.display.Javascript object>"
            ],
            "application/javascript": [
              "download(\"download_b3a45e70-ef32-464e-8458-8a84513607f5\", \"ass_3.pt\", 35593324)"
            ]
          },
          "metadata": {}
        }
      ]
    },
    {
      "cell_type": "markdown",
      "source": [
        "Check if it got saved right!"
      ],
      "metadata": {
        "id": "flMRBW9Akhkg"
      }
    },
    {
      "cell_type": "code",
      "source": [
        "# load the model, use predict function\n",
        "loaded_model=torch.load('/content/gdrive/My Drive/CNN/asgn_3/ass_3.pt')\n",
        "\n",
        "with torch.no_grad():\n",
        "    predicted_arr=np.zeros(64)\n",
        "    nums=0\n",
        "    sum_accuracy=0\n",
        "    \n",
        "    for i, (images, labels) in enumerate(test_dataloader):\n",
        "      images=images.cuda()   \n",
        "      predicted=predict(final_model,images)\n",
        "      nums+=1\n",
        "      val=accuracy(predicted,(labels.cpu().numpy()).flatten())\n",
        "      #print(val)\n",
        "      sum_accuracy+=val\n",
        "    \n",
        "    print(sum_accuracy/nums)"
      ],
      "metadata": {
        "id": "-wA9nHzYkj1R",
        "colab": {
          "base_uri": "https://localhost:8080/"
        },
        "outputId": "528ba362-ac90-40c3-8da8-d2148a52de9e"
      },
      "execution_count": 192,
      "outputs": [
        {
          "output_type": "stream",
          "name": "stderr",
          "text": [
            "/usr/local/lib/python3.7/dist-packages/ipykernel_launcher.py:2: UserWarning: To copy construct from a tensor, it is recommended to use sourceTensor.clone().detach() or sourceTensor.clone().detach().requires_grad_(True), rather than torch.tensor(sourceTensor).\n",
            "  \n"
          ]
        },
        {
          "output_type": "stream",
          "name": "stdout",
          "text": [
            "81.9837979834791\n"
          ]
        }
      ]
    }
  ]
}